{
  "nbformat": 4,
  "nbformat_minor": 0,
  "metadata": {
    "colab": {
      "provenance": [],
      "collapsed_sections": [
        "ysz0rY1uHtwB",
        "Mimqng9hHzUP"
      ]
    },
    "kernelspec": {
      "name": "python3",
      "display_name": "Python 3"
    },
    "language_info": {
      "name": "python"
    }
  },
  "cells": [
    {
      "cell_type": "markdown",
      "source": [
        "# Configurações"
      ],
      "metadata": {
        "id": "ysz0rY1uHtwB"
      }
    },
    {
      "cell_type": "code",
      "source": [
        "!pip -q install google-genai"
      ],
      "metadata": {
        "id": "31SFDW0gIIWu"
      },
      "execution_count": 10,
      "outputs": []
    },
    {
      "cell_type": "code",
      "source": [
        "!pip install -q google-adk"
      ],
      "metadata": {
        "id": "4OHjwBWiIHrZ"
      },
      "execution_count": 11,
      "outputs": []
    },
    {
      "cell_type": "code",
      "source": [
        "import os\n",
        "# Importa userdata somente se estiver no ambiente Colab\n",
        "try:\n",
        "    from google.colab import userdata\n",
        "    os.environ[\"GOOGLE_API_KEY\"] = userdata.get('GOOGLE_API_KEY')\n",
        "except ImportError:\n",
        "    # Caso não esteja no Colab, a chave deve ser configurada de outra forma (ex: variável de ambiente)\n",
        "    print(\"Não está no ambiente Google Colab. Certifique-se de que a variável de ambiente GOOGLE_API_KEY está configurada.\")\n",
        "    # Para rodar localmente, você pode descomentar a linha abaixo e colar sua chave (NÃO RECOMENDADO PARA COMPARTILHAR)\n",
        "    # os.environ[\"GOOGLE_API_KEY\"] = \"SUA_CHAVE_API_AQUI\"\n",
        "\n",
        "\n",
        "# Configura o cliente da SDK do Gemini\n",
        "from google import genai\n",
        "client = genai.Client()\n",
        "MODEL_ID = \"gemini-2.0-flash\" # Modelo a ser usado\n",
        "\n",
        "# Importações adicionais e configurações para os agentes\n",
        "from google.adk.agents import Agent\n",
        "from google.adk.runners import Runner\n",
        "from google.adk.sessions import InMemorySessionService\n",
        "from google.adk.tools import google_search\n",
        "from google.genai import types\n",
        "from datetime import date\n",
        "import textwrap\n",
        "# Importa display e Markdown somente se estiver no ambiente Colab\n",
        "try:\n",
        "    from IPython.display import display, Markdown\n",
        "except ImportError:\n",
        "     # Define funções dummy caso não esteja no Colab para evitar erros\n",
        "     def display(obj):\n",
        "         print(obj) # Simplesmente imprime para o console\n",
        "     class Markdown:\n",
        "         def __init__(self, text):\n",
        "             self.text = text\n",
        "         def __str__(self):\n",
        "             return self.text\n",
        "\n",
        "\n",
        "import requests\n",
        "import warnings\n",
        "warnings.filterwarnings(\"ignore\") # Ignora alguns avisos chatos"
      ],
      "metadata": {
        "id": "wSLmKittHsYg"
      },
      "execution_count": 12,
      "outputs": []
    },
    {
      "cell_type": "markdown",
      "source": [
        "# Funções Auxiliares"
      ],
      "metadata": {
        "id": "Mimqng9hHzUP"
      }
    },
    {
      "cell_type": "code",
      "execution_count": 13,
      "metadata": {
        "id": "_sf53mTRHIcL"
      },
      "outputs": [],
      "source": [
        "# --- Funções Auxiliares ---\n",
        "\n",
        "# Função auxiliar que envia uma mensagem para um agente via Runner e retorna a resposta final\n",
        "def call_agent(agent: Agent, message_text: str) -> str:\n",
        "    session_service = InMemorySessionService()\n",
        "    session = session_service.create_session(app_name=agent.name, user_id=\"user1\", session_id=\"session1\")\n",
        "    runner = Runner(agent=agent, app_name=agent.name, session_service=session_service)\n",
        "    content = types.Content(role=\"user\", parts=[types.Part(text=message_text)])\n",
        "\n",
        "    final_response = \"\"\n",
        "    for event in runner.run(user_id=\"user1\", session_id=\"session1\", new_message=content):\n",
        "        if event.is_final_response():\n",
        "          for part in event.content.parts:\n",
        "            if part.text is not None:\n",
        "              final_response += part.text\n",
        "              final_response += \"\\n\"\n",
        "    return final_response\n",
        "\n",
        "# Função auxiliar para exibir texto formatado em Markdown (funciona no Colab)\n",
        "def to_markdown(text):\n",
        "  text = text.replace('•', '  *')\n",
        "  # Adiciona uma indentação para destacar a resposta no Colab\n",
        "  return Markdown(textwrap.indent(text, '> ', predicate=lambda _: True))\n",
        "\n"
      ]
    },
    {
      "cell_type": "markdown",
      "source": [
        "# Código principal"
      ],
      "metadata": {
        "id": "gJlWOwz7JfFh"
      }
    },
    {
      "cell_type": "code",
      "source": [
        "# --- Definição dos Agentes ---\n",
        "\n",
        "# Agente 1: Buscador de locais\n",
        "def agente_buscador(input_inicial):\n",
        "  buscador = Agent(\n",
        "      name = \"agente_buscador\",\n",
        "      model = MODEL_ID,\n",
        "      description=\"Agente que busca locais de interesse e restaurantes na cidade do usuário\",\n",
        "      tools=[google_search],\n",
        "      instruction=\"\"\"\n",
        "      Você é um assistente de busca especializado em encontrar locais para encontros (dates).\n",
        "      Sua tarefa principal é coletar uma lista inicial robusta e relevante de opções na cidade especificada,\n",
        "      que servirá como base para o próximo agente (Refinador de Encontro) criar sugestões de roteiros.\n",
        "      Utilizando principalmente a ferramenta de busca do google (google_search) para informações contextuais adicionais (ex: verificar o \"buzz\", tipo de ambiente\n",
        "      não explícito no `Maps`), procure por locais adequados para um encontro na cidade fornecida pelo usuário.\n",
        "      Recupere uma lista diversificada com aproximadamente **15 restaurantes** e **15 locais de interesse**\n",
        "      (como parques, museus, bares com ambiente para encontro, atividades culturais, pontos turísticos, etc.) que se encaixem nos critérios de orçamento e horário do usuário.\n",
        "      A busca deve estar limitada a 20km do local indicado\n",
        "      \"\"\"\n",
        "  )\n",
        "  entrada_do_agente_buscador = f\"Preferências do usuário: {input_inicial}\"\n",
        "  locais_preferenciais = call_agent(buscador, entrada_do_agente_buscador)\n",
        "  return locais_preferenciais\n",
        "\n",
        "# Agente 2: Refinador de encontro\n",
        "def agente_refinador(input_inicial, locais_preferenciais):\n",
        "    refinador = Agent(\n",
        "        name=\"agente_refinador\",\n",
        "        model=MODEL_ID,\n",
        "        instruction=\"\"\"\n",
        "         Você é um Refinador de Encontros, especialista em criar experiências personalizadas e agradáveis.\n",
        "            Com base nas preferências, restrições e orçamento fornecidos pelo usuário, você deve:\n",
        "            - Receber as seguintes informações do usuário:\n",
        "              - Atividades que o usuário ou a pessoa a ser agradada *não* gostam de fazer.\n",
        "              - Restrições ou preferências alimentares (o que não gosta ou não pode comer).\n",
        "              - Orçamento disponível para o passeio.\n",
        "              - Horário de início e/ou duração desejada para o encontro.\n",
        "              - Considerar a área ou cidade relevante para a busca.\n",
        "            - Usar a resposta encontrada pelo agente_buscador para selecionar os locais\n",
        "            - Combinar os resultados da busca para criar *três opções distintas* de encontros, onde cada opção inclua:\n",
        "              - Um restaurante.\n",
        "              - Um ou dois locais de interesse próximos ou logicamente conectáveis ao restaurante.\n",
        "            - Para cada uma das três opções, você deve também:\n",
        "              - Sugerir uma rota lógica ou sequência de locais para o encontro (ex: \"começar no parque, depois ir ao restaurante\").\n",
        "            - Oferecer ideias de presentes ou pequenos mimos que poderiam agradar a pessoa, NÃO OFEREÇA IDEIAS DE PRESENTES PARA O PRÓPRIO USUÁRIO, SOMENTE PARA A COMPANHIA DELE, considerando o contexto dos locais escolhidos\n",
        "             e o orçamento geral (sem necessariamente detalhar o preço do presente, mas sim o tipo)\n",
        "             - Ao apresentar as três opções, certificar-se de que cada uma delas respeita *todas* as restrições\n",
        "              e preferências fornecidas pelo usuário (não fazer o que não gostam, respeitar a dieta/preferências alimentares,\n",
        "              manter-se dentro do orçamento e compatível com o horário).\n",
        "              - Apresentar as três opções de forma clara e numerada, detalhando em cada uma: o restaurante (nome, tipo, endereço), os locais de interesse (nome, tipo, endereço),\n",
        "              a sugestão de rota e as ideias de presentes. Destaque brevemente como cada opção se alinha com os requisitos do usuário.\n",
        "        \"\"\",\n",
        "        description=\"Agente que refina o encontro e informações encontradas pelo usuário.\",\n",
        "        tools=[google_search]\n",
        "    )\n",
        "    entrada_do_agente_refinador = f\"Preferências:{input_inicial}\\nLocais buscados: {locais_preferenciais}\"\n",
        "    plano_de_encontro = call_agent(refinador, entrada_do_agente_refinador)\n",
        "    return plano_de_encontro\n",
        "\n",
        "# Agente 3: Planejador de encontro\n",
        "def agente_planejador(input_inicial, plano_de_encontro):\n",
        "    planejador = Agent(\n",
        "        name=\"agente_planejador\",\n",
        "        model= MODEL_ID,\n",
        "        instruction=\"\"\"\n",
        "            Você é o Planejador Final de Encontros, o especialista em avaliar, selecionar e apresentar o plano de encontro ideal com carinho e detalhes.\n",
        "            Você receberá como entrada as 3 opções de planos de encontro que foram refinados e sugeridos pelo agente anterior, cada um contendo restaurante,\n",
        "            locais de interesse, sugestão de rota e ideias de presentes.\n",
        "            Sua tarefa principal é analisar cuidadosamente essas 3 opções, considerando os critérios originais do usuário que guiaram a criação dessas opções\n",
        "            (horário, orçamento, coisas que não gosta/não pode, gostos/preferências gerais) para identificar qual delas é o *melhor match*\n",
        "            e oferece a experiência mais harmoniosa, agradável e alinhada com o que o usuário busca.\n",
        "            Após escolher o plano ideal, você deve:\n",
        "              - Criar uma introdução breve, calorosa e amigável explicando *por quê* este plano específico foi selecionado como o 'perfeito' para o usuário,\n",
        "              conectando-se com os gostos e necessidades dele. Use um tom pessoal e positivo. ✨\n",
        "              - Detalhar o plano escolhido passo a passo, como um roteiro claro.\n",
        "              - Para cada etapa do plano (ex: \"Parque [Nome]\", \"Restaurante [Nome]\", \"Visita ao [Local de Interesse]\"),\n",
        "              indicar o *momento* ou *horário* apropriado dentro da sequência do encontro (ex: \"Comece por volta das 15h no...\",\n",
        "              \"Em seguida, por volta das 17h, dirija-se ao...\",\"Para fechar a noite, planeje estar no... a partir das 19h\").\n",
        "              - Fornecer mais detalhes e informações interessantes sobre cada local incluído no plano escolhido.\n",
        "              - Usar a ferramenta de busca do google (google_search) para pesquisar informações adicionais relevantes,\n",
        "              curiosidades ou destaques sobre esses locais (ex: um prato famoso no restaurante, a história do parque, uma exposição temporária no museu).\n",
        "              - Incluir as informações obtidas com o (google_search) *imediatamente após* a menção do local ou detalhe, sempre *entre parênteses*\n",
        "              (Ex: Visite o Museu de Arte Moderna (MAC) (Famoso por sua arquitetura de Niemeyer e vista panorâmica da cidade)).\n",
        "              - Incluir as ideias de presentes que foram sugeridas para o plano escolhido em um tópico separado ou integrado à descrição do plano,\n",
        "              mas destaque-o para não ficar perdido no meio do texto.\n",
        "              - Garantir que todo o texto seja apresentado de forma simples, acessível e que mantenha a conexão com o usuário ao longo da leitura.\n",
        "              - Incluir emojis relevantes e divertidos para tornar a mensagem mais leve e expressiva. 😄🗺️🥂🎁\n",
        "              - Finalizar o texto com uma mensagem genuinamente encorajadora e positiva para o usuário, transmitindo confiança e desejando um encontro maravilhoso. ❤️\n",
        "\n",
        "              ***********Você não deve:****************\n",
        "              - Dizer que escolheu uma entre três opções. O usuário não precisa saber disso.\n",
        "              - Não deve dizer que criou três outras opções\n",
        "\n",
        "              Lembre-se: O objetivo é transformar as opções em um roteiro final empolgante e bem informado, mostrando ao usuário que o plano escolhido é o ideal para ele.\n",
        "            \"\"\",\n",
        "        description=\"Agente planejador do encontro perfeito\",\n",
        "        tools=[google_search]\n",
        "    )\n",
        "    entrada_do_agente_planejador = f\"Preferências:{input_inicial}\\nLocais buscados: {plano_de_encontro}\"\n",
        "    roteiro = call_agent(planejador, entrada_do_agente_planejador)\n",
        "    return roteiro\n",
        "\n",
        "# --- Início da Execução Principal ---\n",
        "\n",
        "import time # Opcional, apenas para uma pequena pausa/efeito\n",
        "\n",
        "print(\"✨ Vamos planejar o encontro perfeito para você! ✨\")\n",
        "print(\"-\" * 30)\n",
        "\n",
        "# --- Coleta TODAS as Informações do Usuário Aqui ---\n",
        "# O script vai pausar aqui até que todas as perguntas sejam respondidas\n",
        "\n",
        "endereco_usuario = input(\"📍 Primeiro, qual o bairro e cidade de referência para o encontro? (Ex: Centro, São Paulo): \")\n",
        "horario_encontro = input(\"⏰ Que horas será o encontro? (Ou digite 'não sei' se quiser uma sugestão): \")\n",
        "gostos_date_fazer = input(\"🤸 O que a pessoa com quem você vai sair Gosta de Fazer? (Hobbies, atividades): \")\n",
        "gostos_usuario_fazer = input(\"🚶 E o que VOCÊ Gosta de Fazer? (Seus hobbies, atividades preferidas): \")\n",
        "gostos_usuario_comer = input(\"🍔 O que VOCÊ Gosta de Comer? (Tipos de culinária, pratos preferidos): \")\n",
        "gostos_date_comer = input(\"🍕 E o que a pessoa com quem você vai sair Gosta de Comer? (Tipos de culinária, pratos preferidos): \")\n",
        "nao_gosta_restricoes = input(\"🚫 Existe algo que AMBOS NÃO Gostam de Fazer/Comer? Alguma Restrição Alimentar ou Alergia? Descreva tudo aqui: \")\n",
        "orcamento_passeio = input(\"💰 Qual o ORÇAMENTO aproximado para o passeio? (Ex: R$ 100, R$ 50-150, Flexível): \")\n",
        "\n",
        "print(\"-\" * 30)\n",
        "print(\"✅ Informações coletadas! Formatando para nossos agentes do amor\")\n",
        "time.sleep(1) # Pequena pausa para efeito\n",
        "\n",
        "# --- Formatação para o Prompt Inicial da IA ---\n",
        "# Isso é feito APENAS DEPOIS que todas as informações foram coletadas\n",
        "\n",
        "input_inicial = f\"\"\"Olá, Agente Refinador de Encontros!\n",
        "\n",
        "Preciso de ajuda para planejar um encontro incrível, baseado nas seguintes informações e preferências:\n",
        "\n",
        "Local de Referência (Bairro e Cidade): {endereco_usuario}\n",
        "Horário Desejado para Iniciar (Ou 'não sei'): {horario_encontro}\n",
        "\n",
        "Preferências de Atividades:\n",
        "- O que a Outra Pessoa Gosta de Fazer: {gostos_date_fazer}\n",
        "- O que Eu Gosto de Fazer: {gostos_usuario_fazer}\n",
        "\n",
        "Preferências Alimentares:\n",
        "- O que Eu Gosto de Comer: {gostos_usuario_comer}\n",
        "- O que a Outra Pessoa Gosta de Comer: {gostos_date_comer}\n",
        "\n",
        "Restrições e Coisas que Ambos Não Gostam:\n",
        "- Restrições Gerais/Alimentares/Alergias e Atividades/Comidas Não Desejadas: {nao_gosta_restricoes}\n",
        "\n",
        "Orçamento Total Estimado para o Passeio: {orcamento_passeio}\n",
        "\n",
        "Por favor, use TODAS estas informações para refinar as opções de encontro, mesclando restaurantes e locais de interesse, e me oferecendo 3 planos distintos com sugestões de rota e presentes, garantindo que cada opção respeite essas condições.\n",
        "\n",
        "Obrigado! 😊\n",
        "\"\"\"\n",
        "\n",
        "# --- Executa o Pipeline de Agentes Sequencialmente ---\n",
        "# Agora que temos todas as entradas, chamamos os agentes um após o outro\n",
        "\n",
        "print(\"\\n--- Estamos enviando agora para nossos agentes! ---\")\n",
        "\n",
        "# Chama o Agente Buscador\n",
        "locais_preferenciais = agente_buscador(input_inicial)\n",
        "# Opcional: Remova ou comente as linhas abaixo para não exibir o resultado intermediário\n",
        "# print('\\n--- Resultado do Agente 1 (Buscador) ---\\n')\n",
        "# display(to_markdown(locais_preferenciais))\n",
        "# print(\"-\" * 30)\n",
        "\n",
        "# Chama o Agente Refinador com a entrada inicial e os locais buscados\n",
        "plano_de_encontro = agente_refinador(input_inicial, locais_preferenciais)\n",
        "# Opcional: Remova ou comente as linhas abaixo para não exibir o resultado intermediário\n",
        "# print('\\n--- Resultado do Agente 2 (Refinador) ---\\n')\n",
        "# display(to_markdown(plano_de_encontro))\n",
        "# print(\"-\" * 30)\n",
        "\n",
        "# Chama o Agente Planejador com a entrada inicial e o plano refinado\n",
        "roteiro = agente_planejador(input_inicial, plano_de_encontro)\n",
        "\n",
        "# --- Exibe o Resultado Final ---\n",
        "print('\\n--- Resultado Final (Plano de Encontro Perfeito!) ---\\n')\n",
        "display(to_markdown(roteiro))\n",
        "print(\"-\" * 30)"
      ],
      "metadata": {
        "colab": {
          "base_uri": "https://localhost:8080/",
          "height": 884
        },
        "id": "Y4T5XTUqJc4d",
        "outputId": "19041995-785a-4e73-eea9-5778bf299f7c"
      },
      "execution_count": 17,
      "outputs": [
        {
          "output_type": "stream",
          "name": "stdout",
          "text": [
            "✨ Vamos planejar o encontro perfeito para você! ✨\n",
            "------------------------------\n",
            "📍 Primeiro, qual o bairro e cidade de referência para o encontro? (Ex: Centro, São Paulo): pindamonhangaba\n",
            "⏰ Que horas será o encontro? (Ou digite 'não sei' se quiser uma sugestão): me impressione\n",
            "🤸 O que a pessoa com quem você vai sair Gosta de Fazer? (Hobbies, atividades): me impressione\n",
            "🚶 E o que VOCÊ Gosta de Fazer? (Seus hobbies, atividades preferidas): me impressione\n",
            "🍔 O que VOCÊ Gosta de Comer? (Tipos de culinária, pratos preferidos): me impressione\n",
            "🍕 E o que a pessoa com quem você vai sair Gosta de Comer? (Tipos de culinária, pratos preferidos): me impressione\n",
            "🚫 Existe algo que AMBOS NÃO Gostam de Fazer/Comer? Alguma Restrição Alimentar ou Alergia? Descreva tudo aqui: veganos\n",
            "💰 Qual o ORÇAMENTO aproximado para o passeio? (Ex: R$ 100, R$ 50-150, Flexível): me impressione\n",
            "------------------------------\n",
            "✅ Informações coletadas! Formatando para nossos agentes do amor\n",
            "\n",
            "--- Estamos enviando agora para nossos agentes! ---\n",
            "\n",
            "--- Resultado Final (Plano de Encontro Perfeito!) ---\n",
            "\n"
          ]
        },
        {
          "output_type": "display_data",
          "data": {
            "text/plain": [
              "<IPython.core.display.Markdown object>"
            ],
            "text/markdown": "> Ah, preparar um encontro especial é uma arte, e eu estou aqui para garantir que você cause a melhor impressão possível! ✨ Depois de analisar cuidadosamente todas as opções, levando em conta o seu desejo de ser surpreendido e as preferências veganas, a **Opção 3: Relaxamento na Natureza e Picnic Vegano** se destaca como a escolha ideal para um momento inesquecível.\n> \n> A combinação de um piquenique personalizado com a serenidade do Parque da Cidade oferece a flexibilidade perfeita para criar um encontro que reflita seus gostos e os da sua companhia, tudo isso em um ambiente encantador e relaxante. Além disso, a preparação do piquenique em si pode ser uma atividade divertida e colaborativa, adicionando um toque especial ao encontro. 😉\n> \n> **Roteiro Detalhado do Encontro Vegano no Parque da Cidade:**\n> \n> 1.  **Início da Tarde (a partir das 14h):** Comece o dia com uma visita a mercados e lojas locais para selecionar os ingredientes veganos mais frescos e saborosos para o seu piquenique. Queijos veganos, frutas da estação, pães artesanais, patês deliciosos e bebidas refrescantes são ótimas opções. 🍓🥖 Prepare tudo com carinho, transformando a montagem do piquenique em um momento divertido e criativo.\n> \n> 2.  **Chegada ao Parque da Cidade (por volta das 15h30):** Dirija-se ao Parque da Cidade *(Localizado na Av. N. Sra. do Bom Sucesso, 2500 - Jardim Mariana, Pindamonhangaba - SP, o parque oferece uma ampla área verde, perfeita para relaxar e aproveitar a natureza)*. Escolha um local agradável e tranquilo para estender sua manta e montar o piquenique.\n> \n> 3.  **Piquenique Vegano Relaxante (das 16h às 18h):** Desfrute de um delicioso piquenique vegano em meio à natureza. Saboreie cada item, converse, ria e aproveite a companhia um do outro. Que tal levar um baralho ou um jogo de tabuleiro leve para animar o momento? 😄\n> \n> 4.  **Exploração do Parque e Atividades ao Ar Livre (das 18h às 19h30):** Após o piquenique, aproveite para explorar as belezas do Parque da Cidade. Caminhe de mãos dadas, ande de bicicleta ou simplesmente relaxe e aprecie a paisagem. *(O Parque da Cidade é um espaço público que oferece diversas opções de lazer e contato com a natureza em Pindamonhangaba)*.\n> \n> 5.  **Despedida Romântica (a partir das 19h30):** Para finalizar o encontro com chave de ouro, encontre um local tranquilo no parque para apreciar o pôr do sol juntos. A vista é simplesmente mágica e proporciona um momento perfeito para uma conversa sincera e um abraço apertado. 🥰\n> \n> **Sugestão de Presente:**\n> \n> Para complementar este encontro especial, sugiro uma cesta de piquenique charmosa, completa com todos os utensílios necessários (pratos, talheres, copos, guardanapos) e uma manta confortável. Você pode encontrar opções lindas em lojas de artigos para casa ou até mesmo montar a sua própria cesta personalizada. 🎁\n> \n> Com este plano, o sucesso do seu encontro é garantido! A flexibilidade, o toque pessoal e o ambiente relaxante proporcionam uma experiência única e inesquecível. Tenha um encontro maravilhoso e divirta-se! ❤️\n> \n"
          },
          "metadata": {}
        },
        {
          "output_type": "stream",
          "name": "stdout",
          "text": [
            "------------------------------\n"
          ]
        }
      ]
    }
  ]
}